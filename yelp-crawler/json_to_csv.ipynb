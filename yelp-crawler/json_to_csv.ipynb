{
 "cells": [
  {
   "cell_type": "code",
   "execution_count": 149,
   "metadata": {},
   "outputs": [],
   "source": [
    "import os, json\n",
    "import pandas as pd\n",
    "from urllib.parse import urlparse\n",
    "\n",
    "path_to_json = 'crawled_data/'\n",
    "json_files = ['crawled_data/' + pos_json for pos_json in os.listdir(path_to_json) if pos_json.endswith('.json')]\n",
    "\n",
    "# data = pd.DataFrame()\n",
    "\n",
    "cities = []\n",
    "for _path in json_files:\n",
    "    with open(_path, 'r') as f:\n",
    "        cities += json.load(f)\n",
    "        \n",
    "cities = list({i['id']: i for i in cities}.values())\n",
    "\n",
    "cleaned_cities = []\n",
    "\n",
    "for city in cities:\n",
    "    street = city[\"location\"][\"address1\"] if city[\"location\"][\"address1\"] else \"\"\n",
    "    street += \" - \" + city[\"location\"][\"address2\"] if city[\"location\"][\"address2\"] else \"\"\n",
    "    street += \" - \" + city[\"location\"][\"address3\"] if city[\"location\"][\"address3\"] else \"\"\n",
    "    \n",
    "    o = urlparse(city[\"url\"])\n",
    "    url = o.scheme + \"://\" + o.netloc + o.path\n",
    "    \n",
    "    cleaned_cities += [{\n",
    "        \"name\": city[\"name\"],\n",
    "        \"yelp_alias\": city[\"alias\"],\n",
    "        \"phone\": city[\"display_phone\"],\n",
    "        \"street\": street,\n",
    "        \"city\": city[\"location\"][\"city\"],\n",
    "        \"state\": city[\"location\"][\"state\"],\n",
    "        \"zip_code\": city[\"location\"][\"zip_code\"],\n",
    "        \"country\": city[\"location\"][\"country\"],\n",
    "        \"rating\": city[\"rating\"],\n",
    "        \"review_count\": city[\"review_count\"],\n",
    "        \"url\": url,\n",
    "        \"categories\": \" | \".join([_c[\"title\"] for _c in city[\"categories\"]])\n",
    "    }]\n",
    "    \n",
    "pd.DataFrame(cleaned_cities).to_csv(\"crawled_cities.csv\")"
   ]
  },
  {
   "cell_type": "code",
   "execution_count": null,
   "metadata": {},
   "outputs": [],
   "source": []
  }
 ],
 "metadata": {
  "kernelspec": {
   "display_name": "Python 3",
   "language": "python",
   "name": "python3"
  },
  "language_info": {
   "codemirror_mode": {
    "name": "ipython",
    "version": 3
   },
   "file_extension": ".py",
   "mimetype": "text/x-python",
   "name": "python",
   "nbconvert_exporter": "python",
   "pygments_lexer": "ipython3",
   "version": "3.6.4"
  }
 },
 "nbformat": 4,
 "nbformat_minor": 2
}
